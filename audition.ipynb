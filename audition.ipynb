{
 "cells": [
  {
   "cell_type": "markdown",
   "metadata": {
    "collapsed": true
   },
   "source": [
    "Welcome to your DataCamp project audition! This notebook must be filled out and vetted before a contract can be signed and you can start creating your project.\n",
    "\n",
    "The first step is forking the repository in which this notebook lives. After that, there are two parts to be completed in this notebook:\n",
    "\n",
    "- **Project information**:  The title of the project, a project description, etc.\n",
    "\n",
    "- **Project introduction**: The three first text and code cells that will form the introduction of your project.\n",
    "\n",
    "When complete, please email the link to your forked repo to projects@datacamp.com with the email subject line _DataCamp project audition_. If you have any questions, please reach out to projects@datacamp.com."
   ]
  },
  {
   "cell_type": "markdown",
   "metadata": {},
   "source": [
    "# Project information"
   ]
  },
  {
   "cell_type": "markdown",
   "metadata": {},
   "source": [
    "**Project title**: The marvel hero graph \n",
    "\n",
    "**Name:** Pierre Gutierrez\n",
    "\n",
    "**Email address associated with your DataCamp account:** pierre.j.p.gutierrez@gmail.com\n",
    "\n",
    "**Project description**: \n",
    "\n",
    "Networks are a paramount tool in the data scientist toolbox. Their most famous usage is, obviously, the analysis of social network interactions (Facebook, linkedin, twitter, etc.). But networks are also widely used in other domains such as telecomunication, logistics, fraud detection (network of fraudsters), biostatistics (genetics, genomics) or recommendation engines. Using network can also be a great way to visualize interactions in 2D. Here, we propose to study how to create and display network using a Marvel hero interaction dataset. \n",
    "\n",
    "In this project, we assume the student to have basics in python. We will start by loading and manipulating the dataset using pandas. Then, we will transition to network analysis. The student is going to create a network using the networkx package. Then he/she will learn how to display such network in a jupyter notebook. Finally, we will dive into the common network measures such as degree, centrality, betweeness,... and derive insights on the Marvel universe.  \n",
    "\n",
    "The dataset the student will use is the Marvel social network dataset. It is freely available on the internet (typically on Kaggle as the [hero-network.csv](https://www.kaggle.com/csanhueza/the-marvel-universe-social-network#hero-network.csv)). It contains two columns: \"id1\" and \"id2\". Each line represent two heroes appearing in the same comic. This is a great dataset to learn about network analysis. First, it's big enough not to be a toy dataset. Second, because it contains real insights about how the Marvel universe is structured. Finally, it is also quite similar to a real social network, having internal clusters and a long tail distribution. To get a feeling of what we will cover, have a look at the [original blog post](https://blog.dataiku.com/2015/05/19/marvel-social-graph-analysis).  "
   ]
  },
  {
   "cell_type": "markdown",
   "metadata": {},
   "source": [
    "# Project introduction\n",
    "\n",
    "***Note: nothing needs to be filled out in this cell. It is simply setting up the template cells below.***\n",
    "\n",
    "The final output of a DataCamp project looks like a blog post: pairs of text and code cells that tell a story about data. The text is written from the perspective of the data analyst and *not* from the perspective of an instructor on DataCamp. So, for this blog post intro, all you need to do is pretend like you're writing a blog post -- forget the part about instructors and students.\n",
    "\n",
    "Below you'll see the structure of a DataCamp project: a series of \"tasks\" where each task consists of a title, a **single** text cell, and a **single** code cell. There are 8-12 tasks in a project and each task can have up to 10 lines of code. What you need to do:\n",
    "1. Read through the template structure.\n",
    "2. As best you can, divide your project as it is currently visualized in your mind into tasks.\n",
    "3. Fill out the template structure for the first three tasks of your project.\n",
    "\n",
    "As you are completing each task, you may wish to consult the project notebook format in our [documentation](https://instructor-support.datacamp.com/projects/datacamp-projects-jupyter-notebook). Only the `@context` and `@solution` cells are relevant to this audition."
   ]
  },
  {
   "cell_type": "markdown",
   "metadata": {},
   "source": [
    "## 1. Loading the data"
   ]
  },
  {
   "cell_type": "markdown",
   "metadata": {},
   "source": [
    "\n",
    "Marvel is one of the leading comics editor along with DC. The company was funded around 80 years ago and has been influencing many youngsters since then. Today, there is not a quarter without its new Marvel Blockbuster!\n",
    "\n",
    "![alt text](./img/marvel_general.jpg)\n",
    "\n",
    "\n",
    "The goal of this project is to analyse the Marvel universe: what are the most popular heroes ?  Are there different sub universe of Marvel ? How are they connected to each others ? Who are the heroes that appear in the most crossovers ? \n",
    "\n",
    "To do so, we are going to use network analysis techniques. Our final goal is to be able to display a network like the one bellow, where we can clearly see the star heroes, their connectection and the cluster they belong to.    \n",
    "\n",
    "\n",
    "![alt text](./img/marvel_graph_1.jpg)\n",
    "\n",
    "\n",
    "OK, we are ready to go! Let's start by importing the csv data in a pandas DataFrame. "
   ]
  },
  {
   "cell_type": "code",
   "execution_count": 13,
   "metadata": {},
   "outputs": [
    {
     "data": {
      "text/html": [
       "<div>\n",
       "<style scoped>\n",
       "    .dataframe tbody tr th:only-of-type {\n",
       "        vertical-align: middle;\n",
       "    }\n",
       "\n",
       "    .dataframe tbody tr th {\n",
       "        vertical-align: top;\n",
       "    }\n",
       "\n",
       "    .dataframe thead th {\n",
       "        text-align: right;\n",
       "    }\n",
       "</style>\n",
       "<table border=\"1\" class=\"dataframe\">\n",
       "  <thead>\n",
       "    <tr style=\"text-align: right;\">\n",
       "      <th></th>\n",
       "      <th>id1</th>\n",
       "      <th>id2</th>\n",
       "    </tr>\n",
       "  </thead>\n",
       "  <tbody>\n",
       "    <tr>\n",
       "      <th>0</th>\n",
       "      <td>LITTLE, ABNER</td>\n",
       "      <td>PRINCESS ZANDA</td>\n",
       "    </tr>\n",
       "    <tr>\n",
       "      <th>1</th>\n",
       "      <td>LITTLE, ABNER</td>\n",
       "      <td>BLACK PANTHER/T'CHAL</td>\n",
       "    </tr>\n",
       "    <tr>\n",
       "      <th>2</th>\n",
       "      <td>BLACK PANTHER/T'CHAL</td>\n",
       "      <td>PRINCESS ZANDA</td>\n",
       "    </tr>\n",
       "    <tr>\n",
       "      <th>3</th>\n",
       "      <td>LITTLE, ABNER</td>\n",
       "      <td>PRINCESS ZANDA</td>\n",
       "    </tr>\n",
       "    <tr>\n",
       "      <th>4</th>\n",
       "      <td>LITTLE, ABNER</td>\n",
       "      <td>BLACK PANTHER/T'CHAL</td>\n",
       "    </tr>\n",
       "  </tbody>\n",
       "</table>\n",
       "</div>"
      ],
      "text/plain": [
       "                    id1                   id2\n",
       "0         LITTLE, ABNER        PRINCESS ZANDA\n",
       "1         LITTLE, ABNER  BLACK PANTHER/T'CHAL\n",
       "2  BLACK PANTHER/T'CHAL        PRINCESS ZANDA\n",
       "3         LITTLE, ABNER        PRINCESS ZANDA\n",
       "4         LITTLE, ABNER  BLACK PANTHER/T'CHAL"
      ]
     },
     "execution_count": 13,
     "metadata": {},
     "output_type": "execute_result"
    }
   ],
   "source": [
    "# Pandas is a great python library for data processing! \n",
    "\n",
    "import pandas as pd\n",
    "marvel_data = pd.read_csv(\"datasets/hero_network.csv\")\n",
    "marvel_data.head()"
   ]
  },
  {
   "cell_type": "markdown",
   "metadata": {},
   "source": [
    "## 2. Who's your favourite hero ? "
   ]
  },
  {
   "cell_type": "markdown",
   "metadata": {},
   "source": [
    "The dataset is composed of two columns \"id1\" and \"id2\".   \n",
    "Each line correspond to the appearance of two heroes in the same comic in the Marvel literature.   \n",
    "\n",
    "Now, let's get a quick look of the most represented heroes."
   ]
  },
  {
   "cell_type": "code",
   "execution_count": 14,
   "metadata": {},
   "outputs": [
    {
     "data": {
      "text/plain": [
       "CAPTAIN AMERICA         16499\n",
       "SPIDER-MAN/PETER PAR    13717\n",
       "IRON MAN/TONY STARK     11817\n",
       "THOR/DR. DONALD BLAK    11427\n",
       "THING/BENJAMIN J. GR    10681\n",
       "WOLVERINE/LOGAN         10353\n",
       "HUMAN TORCH/JOHNNY S    10237\n",
       "SCARLET WITCH/WANDA      9911\n",
       "MR. FANTASTIC/REED R     9775\n",
       "VISION                   9696\n",
       "dtype: int64"
      ]
     },
     "execution_count": 14,
     "metadata": {},
     "output_type": "execute_result"
    }
   ],
   "source": [
    "id1 = marvel_data[\"id1\"]\n",
    "id2 = marvel_data[\"id2\"]\n",
    "id_list = pd.concat([id1,id2])\n",
    "counts = id_list.value_counts()\n",
    "counts.head(10)\n",
    "\n",
    "# nb: we can also have a look at the most unknown heroes using tail(). \n",
    "#counts.tail(10)"
   ]
  },
  {
   "cell_type": "markdown",
   "metadata": {},
   "source": [
    "## 3. Creating the networkx graph "
   ]
  },
  {
   "cell_type": "markdown",
   "metadata": {},
   "source": [
    "Great! most of these names ring a bell. Captain America, Spider Man, Iron man, Thor or the Fantastic Four where all part of movies in the last ten years. \n",
    "\n",
    "We are now going to view the data as a network of interactions. In Graph theory, a network is defined by a set of [vertices](https://en.wikipedia.org/wiki/Vertex_(graph_theory)) and a set of [edges](https://en.wikipedia.org/wiki/Graph_theory). Here, each vertex will be a hero, and an edge will be added if two heroes appear in the same comic.   \n",
    "\n",
    "Let's import the data in a networkx graph and display the degree of some vertex.    \n",
    "\n",
    "Nb: there is a difference between degree (number of connections) and number of occurences in the original dataset. This is because two heroes can appear together in several comics!"
   ]
  },
  {
   "cell_type": "code",
   "execution_count": 26,
   "metadata": {},
   "outputs": [
    {
     "data": {
      "text/html": [
       "<div>\n",
       "<style scoped>\n",
       "    .dataframe tbody tr th:only-of-type {\n",
       "        vertical-align: middle;\n",
       "    }\n",
       "\n",
       "    .dataframe tbody tr th {\n",
       "        vertical-align: top;\n",
       "    }\n",
       "\n",
       "    .dataframe thead th {\n",
       "        text-align: right;\n",
       "    }\n",
       "</style>\n",
       "<table border=\"1\" class=\"dataframe\">\n",
       "  <thead>\n",
       "    <tr style=\"text-align: right;\">\n",
       "      <th></th>\n",
       "      <th>hero</th>\n",
       "      <th>degree</th>\n",
       "    </tr>\n",
       "  </thead>\n",
       "  <tbody>\n",
       "    <tr>\n",
       "      <th>60</th>\n",
       "      <td>CAPTAIN AMERICA</td>\n",
       "      <td>1905</td>\n",
       "    </tr>\n",
       "    <tr>\n",
       "      <th>48</th>\n",
       "      <td>SPIDER-MAN/PETER PAR</td>\n",
       "      <td>1737</td>\n",
       "    </tr>\n",
       "    <tr>\n",
       "      <th>6</th>\n",
       "      <td>IRON MAN/TONY STARK</td>\n",
       "      <td>1521</td>\n",
       "    </tr>\n",
       "    <tr>\n",
       "      <th>79</th>\n",
       "      <td>THING/BENJAMIN J. GR</td>\n",
       "      <td>1416</td>\n",
       "    </tr>\n",
       "    <tr>\n",
       "      <th>74</th>\n",
       "      <td>MR. FANTASTIC/REED R</td>\n",
       "      <td>1377</td>\n",
       "    </tr>\n",
       "    <tr>\n",
       "      <th>65</th>\n",
       "      <td>WOLVERINE/LOGAN</td>\n",
       "      <td>1368</td>\n",
       "    </tr>\n",
       "    <tr>\n",
       "      <th>183</th>\n",
       "      <td>HUMAN TORCH/JOHNNY S</td>\n",
       "      <td>1361</td>\n",
       "    </tr>\n",
       "    <tr>\n",
       "      <th>57</th>\n",
       "      <td>SCARLET WITCH/WANDA</td>\n",
       "      <td>1322</td>\n",
       "    </tr>\n",
       "    <tr>\n",
       "      <th>100</th>\n",
       "      <td>THOR/DR. DONALD BLAK</td>\n",
       "      <td>1289</td>\n",
       "    </tr>\n",
       "    <tr>\n",
       "      <th>84</th>\n",
       "      <td>BEAST/HENRY &amp;HANK&amp; P</td>\n",
       "      <td>1265</td>\n",
       "    </tr>\n",
       "  </tbody>\n",
       "</table>\n",
       "</div>"
      ],
      "text/plain": [
       "                     hero  degree\n",
       "60        CAPTAIN AMERICA    1905\n",
       "48   SPIDER-MAN/PETER PAR    1737\n",
       "6     IRON MAN/TONY STARK    1521\n",
       "79   THING/BENJAMIN J. GR    1416\n",
       "74   MR. FANTASTIC/REED R    1377\n",
       "65        WOLVERINE/LOGAN    1368\n",
       "183  HUMAN TORCH/JOHNNY S    1361\n",
       "57    SCARLET WITCH/WANDA    1322\n",
       "100  THOR/DR. DONALD BLAK    1289\n",
       "84   BEAST/HENRY &HANK& P    1265"
      ]
     },
     "execution_count": 26,
     "metadata": {},
     "output_type": "execute_result"
    }
   ],
   "source": [
    "import networkx as nx\n",
    "# beware to have your networkx version up to date. \n",
    "# previous function was from_pandas_dataframe and has a different behaviour.\n",
    "\n",
    "nx_graph = nx.from_pandas_edgelist(marvel_data,\"id1\",\"id2\")\n",
    "\n",
    "degrees = nx_graph.degree()\n",
    "degrees = pd.DataFrame(degrees)\n",
    "degrees.columns = [\"hero\",\"degree\"]\n",
    "degrees = degrees.sort_values(\"degree\",ascending = False)\n",
    "degrees.head(10)"
   ]
  },
  {
   "cell_type": "markdown",
   "metadata": {},
   "source": [
    "*Stop here! Only the three first tasks. :)*"
   ]
  },
  {
   "cell_type": "code",
   "execution_count": null,
   "metadata": {},
   "outputs": [],
   "source": []
  },
  {
   "cell_type": "code",
   "execution_count": null,
   "metadata": {},
   "outputs": [],
   "source": []
  },
  {
   "cell_type": "code",
   "execution_count": null,
   "metadata": {
    "collapsed": true
   },
   "outputs": [],
   "source": []
  }
 ],
 "metadata": {
  "kernelspec": {
   "display_name": "Python 2",
   "language": "python",
   "name": "python2"
  },
  "language_info": {
   "codemirror_mode": {
    "name": "ipython",
    "version": 3
   },
   "file_extension": ".py",
   "mimetype": "text/x-python",
   "name": "python",
   "nbconvert_exporter": "python",
   "pygments_lexer": "ipython3",
   "version": "3.7.2"
  }
 },
 "nbformat": 4,
 "nbformat_minor": 2
}
