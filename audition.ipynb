{
 "cells": [
  {
   "cell_type": "markdown",
   "metadata": {
    "collapsed": true
   },
   "source": [
    "Welcome to your DataCamp project audition! This notebook must be filled out and vetted before a contract can be signed and you can start creating your project.\n",
    "\n",
    "The first step is forking the repository in which this notebook lives. After that, there are two parts to be completed in this notebook:\n",
    "\n",
    "- **Project information**:  The title of the project, a project description, etc.\n",
    "\n",
    "- **Project introduction**: The three first text and code cells that will form the introduction of your project.\n",
    "\n",
    "When complete, please email the link to your forked repo to projects@datacamp.com with the email subject line _DataCamp project audition_. If you have any questions, please reach out to projects@datacamp.com."
   ]
  },
  {
   "cell_type": "markdown",
   "metadata": {},
   "source": [
    "# Project information"
   ]
  },
  {
   "cell_type": "markdown",
   "metadata": {},
   "source": [
    "**Project title**: The marvel hero graph \n",
    "\n",
    "**Name:** Pierre Gutierrez\n",
    "\n",
    "**Email address associated with your DataCamp account:** pierre.j.p.gutierrez@gmail.com\n",
    "\n",
    "**Project description**: This will be read by the students on the DataCamp platform **before** deciding to start the project. The description should be three paragraphs, written in Markdown.\n",
    "\n",
    "- Paragraph 1 should be an exciting introduction to analysis/model/etc. students will complete.\n",
    "- Paragraph 2 should list the background knowledge you assume the student doing this project will have, the more specific the better. Please list things like modules, tools, functions, methods, statistical concepts, etc.\n",
    "- Paragraph 3 should describe and link to (if possible) the dataset used in the project.\n",
    "\n",
    "Graphs are a very usefull tool in the data scientist toolbox. Their most famous usage is of course, the analysis of social network interactions. But graphs are also widely used in other domains \n",
    "Here, we propose to study how to create and draw graphs using a Marvel hero interaction dataset. \n",
    "\n",
    "In this project, we assume the student to have basics in python. We will start by loading and manipulating the data using pandas. Then we will transition to graph analysis. The student are going to create a network using the networkx package. Then they are going to use "
   ]
  },
  {
   "cell_type": "markdown",
   "metadata": {},
   "source": [
    "# Project introduction\n",
    "\n",
    "***Note: nothing needs to be filled out in this cell. It is simply setting up the template cells below.***\n",
    "\n",
    "The final output of a DataCamp project looks like a blog post: pairs of text and code cells that tell a story about data. The text is written from the perspective of the data analyst and *not* from the perspective of an instructor on DataCamp. So, for this blog post intro, all you need to do is pretend like you're writing a blog post -- forget the part about instructors and students.\n",
    "\n",
    "Below you'll see the structure of a DataCamp project: a series of \"tasks\" where each task consists of a title, a **single** text cell, and a **single** code cell. There are 8-12 tasks in a project and each task can have up to 10 lines of code. What you need to do:\n",
    "1. Read through the template structure.\n",
    "2. As best you can, divide your project as it is currently visualized in your mind into tasks.\n",
    "3. Fill out the template structure for the first three tasks of your project.\n",
    "\n",
    "As you are completing each task, you may wish to consult the project notebook format in our [documentation](https://instructor-support.datacamp.com/projects/datacamp-projects-jupyter-notebook). Only the `@context` and `@solution` cells are relevant to this audition."
   ]
  },
  {
   "cell_type": "markdown",
   "metadata": {},
   "source": [
    "## 1. Loading the data"
   ]
  },
  {
   "cell_type": "markdown",
   "metadata": {},
   "source": [
    "An exciting intro to the analysis. Provide context on the problem you're going to solve, the dataset(s) you're going to use, the relevant industry, etc. You may wish to briefly introduce the techniques you're going to use. Tell a story to get students excited! It should at most have 1200 characters.\n",
    "\n",
    "The most common error instructors make in **context cells** is referring to the student or the project. We want project notebooks to appear as a blog post or a data analysis. Bad: *\"In this project, you will...\"* Good: *\"In this notebook, we will...\"*\n",
    "\n",
    "The first task in projects often involve loading data. Please store any data files you use in the `datasets/` folder in this repository.\n",
    "\n",
    "Images are welcome additions to every Markdown cell, but especially this first one. Make sure the images you use have a [permissive license](https://support.google.com/websearch/answer/29508?hl=en) and display them using [Markdown](https://github.com/adam-p/markdown-here/wiki/Markdown-Cheatsheet#images). Store your images in the `img/` folder in this repository.\n",
    "\n",
    "\n",
    "OK, we are ready to go, let's start by importing the csv data in a pandas DataFrame. pandas is a great python library for data processing."
   ]
  },
  {
   "cell_type": "code",
   "execution_count": 3,
   "metadata": {
    "collapsed": false
   },
   "outputs": [
    {
     "data": {
      "text/html": [
       "<div>\n",
       "<table border=\"1\" class=\"dataframe\">\n",
       "  <thead>\n",
       "    <tr style=\"text-align: right;\">\n",
       "      <th></th>\n",
       "      <th>id1</th>\n",
       "      <th>id2</th>\n",
       "    </tr>\n",
       "  </thead>\n",
       "  <tbody>\n",
       "    <tr>\n",
       "      <th>0</th>\n",
       "      <td>LITTLE, ABNER</td>\n",
       "      <td>PRINCESS ZANDA</td>\n",
       "    </tr>\n",
       "    <tr>\n",
       "      <th>1</th>\n",
       "      <td>LITTLE, ABNER</td>\n",
       "      <td>BLACK PANTHER/T'CHAL</td>\n",
       "    </tr>\n",
       "    <tr>\n",
       "      <th>2</th>\n",
       "      <td>BLACK PANTHER/T'CHAL</td>\n",
       "      <td>PRINCESS ZANDA</td>\n",
       "    </tr>\n",
       "    <tr>\n",
       "      <th>3</th>\n",
       "      <td>LITTLE, ABNER</td>\n",
       "      <td>PRINCESS ZANDA</td>\n",
       "    </tr>\n",
       "    <tr>\n",
       "      <th>4</th>\n",
       "      <td>LITTLE, ABNER</td>\n",
       "      <td>BLACK PANTHER/T'CHAL</td>\n",
       "    </tr>\n",
       "  </tbody>\n",
       "</table>\n",
       "</div>"
      ],
      "text/plain": [
       "                    id1                   id2\n",
       "0         LITTLE, ABNER        PRINCESS ZANDA\n",
       "1         LITTLE, ABNER  BLACK PANTHER/T'CHAL\n",
       "2  BLACK PANTHER/T'CHAL        PRINCESS ZANDA\n",
       "3         LITTLE, ABNER        PRINCESS ZANDA\n",
       "4         LITTLE, ABNER  BLACK PANTHER/T'CHAL"
      ]
     },
     "execution_count": 3,
     "metadata": {},
     "output_type": "execute_result"
    }
   ],
   "source": [
    "import pandas as pd\n",
    "marvel_data = pd.read_csv(\"datasets/hero_network.csv\")\n",
    "marvel_data.head()"
   ]
  },
  {
   "cell_type": "markdown",
   "metadata": {},
   "source": [
    "## 2. Who's your favourite hero ? "
   ]
  },
  {
   "cell_type": "markdown",
   "metadata": {},
   "source": [
    "Context / background / story / etc. This cell should at most have 800 characters.\n",
    "\n",
    "The most common error instructors make in **context cells** is referring to the student or the project. We want project notebooks to appear as a blog post or a data analysis. Bad: *\"In this task, you will...\"* Good: *\"Next, we will...\"*"
   ]
  },
  {
   "cell_type": "code",
   "execution_count": 24,
   "metadata": {
    "collapsed": false
   },
   "outputs": [
    {
     "data": {
      "text/plain": [
       "CAPTAIN AMERICA         16499\n",
       "SPIDER-MAN/PETER PAR    13717\n",
       "IRON MAN/TONY STARK     11817\n",
       "THOR/DR. DONALD BLAK    11427\n",
       "THING/BENJAMIN J. GR    10681\n",
       "WOLVERINE/LOGAN         10353\n",
       "HUMAN TORCH/JOHNNY S    10237\n",
       "SCARLET WITCH/WANDA      9911\n",
       "MR. FANTASTIC/REED R     9775\n",
       "VISION                   9696\n",
       "dtype: int64"
      ]
     },
     "execution_count": 24,
     "metadata": {},
     "output_type": "execute_result"
    }
   ],
   "source": [
    "id1 = marvel_data[\"id1\"]\n",
    "id2 = marvel_data[\"id2\"]\n",
    "id_list = pd.concat([id1,id2])\n",
    "counts = id_list.value_counts()\n",
    "counts.head(10)\n",
    "#counts.tail(10)"
   ]
  },
  {
   "cell_type": "markdown",
   "metadata": {},
   "source": [
    "## 3. Creating the networkx graph "
   ]
  },
  {
   "cell_type": "markdown",
   "metadata": {},
   "source": [
    "Context / background / story / etc. This cell should at most have 800 characters.\n",
    "\n",
    "The most common error instructors make in **context cells** is referring to the student or the project. We want project notebooks to appear as a blog post or a data analysis. Bad: *\"In this task, you will...\"* Good: *\"Next, we will...\"*"
   ]
  },
  {
   "cell_type": "code",
   "execution_count": 21,
   "metadata": {
    "collapsed": false
   },
   "outputs": [
    {
     "data": {
      "text/plain": [
       "CAPTAIN AMERICA         1905\n",
       "SPIDER-MAN/PETER PAR    1737\n",
       "IRON MAN/TONY STARK     1521\n",
       "THING/BENJAMIN J. GR    1416\n",
       "MR. FANTASTIC/REED R    1377\n",
       "WOLVERINE/LOGAN         1368\n",
       "HUMAN TORCH/JOHNNY S    1361\n",
       "SCARLET WITCH/WANDA     1322\n",
       "THOR/DR. DONALD BLAK    1289\n",
       "BEAST/HENRY &HANK& P    1265\n",
       "VISION                  1238\n",
       "INVISIBLE WOMAN/SUE     1236\n",
       "HAWK                    1175\n",
       "WASP/JANET VAN DYNE     1091\n",
       "ANT-MAN/DR. HENRY J.    1082\n",
       "CYCLOPS/SCOTT SUMMER    1078\n",
       "SHE-HULK/JENNIFER WA    1071\n",
       "STORM/ORORO MUNROE S    1070\n",
       "ANGEL/WARREN KENNETH    1070\n",
       "DR. STRANGE/STEPHEN     1065\n",
       "HULK/DR. ROBERT BRUC    1055\n",
       "PROFESSOR X/CHARLES     1032\n",
       "WONDER MAN/SIMON WIL    1031\n",
       "COLOSSUS II/PETER RA    1023\n",
       "MARVEL GIRL/JEAN GRE    1003\n",
       "HERCULES [GREEK GOD]     989\n",
       "JARVIS, EDWIN            986\n",
       "SUB-MARINER/NAMOR MA     979\n",
       "DAREDEVIL/MATT MURDO     967\n",
       "ICEMAN/ROBERT BOBBY      944\n",
       "                        ... \n",
       "MURRAY, WILLIAM T. B       1\n",
       "GLORIOLE                   1\n",
       "DRAGO, VALERIE             1\n",
       "GARNOK REBBAHN             1\n",
       "KURLYCHEK, PATTY           1\n",
       "MARAUDER II                1\n",
       "SUNTURION II/MIKE ST       1\n",
       "CLASS CLOWN/GLASS          1\n",
       "SAJA                       1\n",
       "SLAYER/                    1\n",
       "MOTH/                      1\n",
       "SCOPE                      1\n",
       "SNOW QUEEN/GITTE           1\n",
       "RIPPER/DR. JACQUELIN       1\n",
       "PINKWATER, ELLA            1\n",
       "CHAKRA II                  1\n",
       "PROFESSOR GIBBON/          1\n",
       "EDITOR                     1\n",
       "VINDIKTOR/                 1\n",
       "HOUSTON, LT. COMMAND       1\n",
       "MASTER OF VENGEANCE        1\n",
       "NIMROD                     1\n",
       "ELLINGTON, DR./TRAVI       1\n",
       "GOLEM II                   1\n",
       "PEACEMONGER/               1\n",
       "SPARROW BEAR, MELLIS       1\n",
       "STERLING, SID              1\n",
       "VIGIL                      1\n",
       "STEEL SPIDER/OLLIE O       1\n",
       "AZRAEL                     1\n",
       "dtype: int64"
      ]
     },
     "execution_count": 21,
     "metadata": {},
     "output_type": "execute_result"
    }
   ],
   "source": [
    "import networkx as nx\n",
    "nx_graph = nx.from_pandas_dataframe(marvel_data,\"id1\",\"id2\")\n",
    "\n",
    "degrees = nx_graph.degree()\n",
    "degrees = pd.Series(degrees).sort_values(ascending = False)\n",
    "degrees"
   ]
  },
  {
   "cell_type": "code",
   "execution_count": 10,
   "metadata": {
    "collapsed": false
   },
   "outputs": [],
   "source": [
    "import matplotlib.pyplot as plt\n",
    "%matplotlib inline\n",
    "\n",
    "#nx.draw(nx_graph)\n",
    "#plt.draw()"
   ]
  },
  {
   "cell_type": "markdown",
   "metadata": {},
   "source": [
    "*Stop here! Only the three first tasks. :)*"
   ]
  },
  {
   "cell_type": "code",
   "execution_count": 8,
   "metadata": {
    "collapsed": false
   },
   "outputs": [
    {
     "data": {
      "image/png": "[encoded data removed]",
      "text/plain": [
       "<matplotlib.figure.Figure at 0x1143b6410>"
      ]
     },
     "metadata": {},
     "output_type": "display_data"
    }
   ],
   "source": [
    "\n",
    "G = nx.cycle_graph(24)\n",
    "pos = nx.spring_layout(G, iterations=200)\n",
    "nx.draw(G, pos, node_color=range(24), node_size=800, cmap=plt.cm.Blues)\n",
    "plt.show()"
   ]
  },
  {
   "cell_type": "code",
   "execution_count": 25,
   "metadata": {
    "collapsed": true
   },
   "outputs": [],
   "source": [
    "# need to check duplicates in edges\n",
    "# need to get the best plotting library\n",
    "# need to check how to filter on degree. \n"
   ]
  },
  {
   "cell_type": "code",
   "execution_count": null,
   "metadata": {
    "collapsed": true
   },
   "outputs": [],
   "source": []
  }
 ],
 "metadata": {
  "kernelspec": {
   "display_name": "Python 2",
   "language": "python",
   "name": "python2"
  },
  "language_info": {
   "codemirror_mode": {
    "name": "ipython",
    "version": 2
   },
   "file_extension": ".py",
   "mimetype": "text/x-python",
   "name": "python",
   "nbconvert_exporter": "python",
   "pygments_lexer": "ipython2",
   "version": "2.7.10"
  }
 },
 "nbformat": 4,
 "nbformat_minor": 2
}
